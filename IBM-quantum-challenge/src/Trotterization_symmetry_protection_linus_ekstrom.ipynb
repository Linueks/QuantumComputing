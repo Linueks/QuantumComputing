{
 "cells": [
  {
   "cell_type": "markdown",
   "id": "8c1da5fa",
   "metadata": {},
   "source": [
    "All code and files from my work on this project can be found publicly available on my [GitHub](https://github.com/Linueks/QuantumComputing/tree/main/IBM-quantum-challenge)"
   ]
  },
  {
   "cell_type": "code",
   "execution_count": 1,
   "id": "52597dc5",
   "metadata": {},
   "outputs": [],
   "source": [
    "import numpy as np\n",
    "import qiskit as qk\n",
    "import qiskit.opflow as opflow\n",
    "import matplotlib.pyplot as plt\n",
    "from qiskit.quantum_info import state_fidelity\n",
    "import qiskit.ignis.verification.tomography as tomo\n",
    "import warnings\n",
    "warnings.filterwarnings('ignore')\n",
    "plt.style.use('seaborn-whitegrid')"
   ]
  },
  {
   "cell_type": "markdown",
   "id": "da230551",
   "metadata": {},
   "source": [
    "First we import the public libraries we will be using."
   ]
  },
  {
   "cell_type": "code",
   "execution_count": 2,
   "id": "83b72d99",
   "metadata": {},
   "outputs": [],
   "source": [
    "from decompositions import trotter_step_zyxzyx, trotter_step_zzyyxx, trotter_step_xplusy_zz_xplusy, trotter_step_xplusy_z_xplusy_z, trotter_step_xplusyplusz_xplusyplusz\n",
    "\n",
    "decompositions = {\n",
    "    'zyxzyx': trotter_step_zyxzyx,\n",
    "    'zzyyxx': trotter_step_zzyyxx,\n",
    "    'x+yzzx+y': trotter_step_xplusy_zz_xplusy,\n",
    "    'x+yzx+yz': trotter_step_xplusy_z_xplusy_z,\n",
    "    'x+y+z': trotter_step_xplusyplusz_xplusyplusz,\n",
    "}"
   ]
  },
  {
   "cell_type": "markdown",
   "id": "2d1b10a7",
   "metadata": {},
   "source": [
    "These are all the different Trotterizations that were investigated in this work. They are described in detail in the project [PDF](https://github.com/Linueks/QuantumComputing/blob/main/IBM-quantum-challenge/pub/IBM_Challenge_Spring_2022_Linus_Ekstrom.pdf) write up. Simply put, they are different reshufflings of the order the Pauli operators and the optimally constructed 2-qubit operators from the [Vatan, Williams paper](https://arxiv.org/abs/quant-ph/0308006). (decompositions needs to be in the same folder as this jupyter-notebook)"
   ]
  },
  {
   "cell_type": "code",
   "execution_count": 3,
   "id": "03d2bbfa",
   "metadata": {},
   "outputs": [],
   "source": [
    "from simulation import TrotterSimulation"
   ]
  },
  {
   "cell_type": "markdown",
   "id": "ecf3417f",
   "metadata": {},
   "source": [
    "Next we are importing our custom Trotter simulation class. This allows us to set up lists of qiskit tomography circuits based on which decomposition we are interested in testing. It allows us full control over a fairly comprehensive list of variables. The workings of the class are also described in detail in the pdf write up, however seeing it in action is the easiest way to understand it. "
   ]
  },
  {
   "cell_type": "code",
   "execution_count": 4,
   "id": "09a2eb0b",
   "metadata": {},
   "outputs": [],
   "source": [
    "provider = qk.IBMQ.load_account()\n",
    "provider = qk.IBMQ.get_provider(\n",
    "    hub='ibm-q-community',\n",
    "    group='ibmquantumawards',\n",
    "    project='open-science-22'\n",
    ")\n",
    "# actual quantum computer backend\n",
    "jakarta_backend = provider.get_backend('ibmq_jakarta')\n",
    "# qiskit simulator backends\n",
    "sim_jakarta_noiseless = qk.providers.aer.QasmSimulator()\n",
    "sim_jakarta_noisy = qk.providers.aer.QasmSimulator.from_backend(\n",
    "    jakarta_backend\n",
    ")"
   ]
  },
  {
   "cell_type": "markdown",
   "id": "e42f3f28",
   "metadata": {},
   "source": [
    "Let us now see how to use our simulator class. We will create three instances: one with a real device as the backend, one with a noiseless simulation and one with a noisy simulator backend. To initialize our class we need to pass in the following parameters\n",
    "\n",
    "    1. simulation_parameter\n",
    "    2. simulation_backend\n",
    "    3. backend_default_gates\n",
    "    4. simulation_end_time\n",
    "    5. number_of_qubits\n",
    "    6. shots\n",
    "    7. active_qubits\n",
    "    8. verbose\n",
    "\n",
    "The simulation parameter in our case will be time. The simulation backend is what we now will vary between our instances. Backend default gates is important to consider if we wanted to run our algorithm on a different quantum computer with different base gates. Simulation end time is when we want to simulate up to (starting from zero). Number of qubits speaks for itself. Shots is how many times we repeat our circuit to be able to pull out a probability distribution of our end states. Active qubits is a list of indeces of the qubits to be used for the algorithm, this is because in the competition it was specified we were to use the 1,3,5 index qubits on the Jakarta device. This functionality is something I had not kept in mind previously when doing quantum computing, but having the topology of the quantum computer in mind when doing algorithmic work seems to be of utmost importance! Verbose is just a boolean flag to enable various printouts when running the code.\n",
    "\n",
    "Let's get to it! First we set up some variables\n"
   ]
  },
  {
   "cell_type": "code",
   "execution_count": 5,
   "id": "047b9d04",
   "metadata": {},
   "outputs": [],
   "source": [
    "time = qk.circuit.Parameter('t')\n",
    "shots = 8192\n",
    "n_qubits = 7\n",
    "end_time = np.pi                                                  # Specified in competition\n",
    "basis_gates=['id', 'rz', 'sx', 'x', 'cx', 'reset']\n",
    "active_qubits = [1, 3, 5]\n",
    "verbose = True"
   ]
  },
  {
   "cell_type": "code",
   "execution_count": 6,
   "id": "e44f909b",
   "metadata": {},
   "outputs": [],
   "source": [
    "min_trotter_steps = 4                                             # 4 minimum for competition\n",
    "max_trotter_steps = 4\n",
    "trotter_steps = range(min_trotter_steps, max_trotter_steps+1)     # Variable if just running one simulation"
   ]
  },
  {
   "cell_type": "markdown",
   "id": "9297af0e",
   "metadata": {},
   "source": [
    "This might look a bit strange, but doing it this way let's us use one code to set up for both actual quantum computing and simulation. The reason is that when running on the real device there will always be a queue so if we want to loop over trotter steps we would only send the first job, and then we'd have to wait for that to complete until sending the next one. (might be a way around this, but this is how my code is written) When simulating the quantum device we don't have this big delay (at least for small system sizes)"
   ]
  },
  {
   "cell_type": "code",
   "execution_count": 7,
   "id": "2fa01cb8",
   "metadata": {},
   "outputs": [],
   "source": [
    "simulator_jakarta_device_backend = TrotterSimulation(\n",
    "    simulation_parameter=time,\n",
    "    simulation_backend=jakarta_backend,\n",
    "    backend_default_gates=basis_gates,\n",
    "    simulation_end_time=end_time,\n",
    "    number_of_qubits=n_qubits,\n",
    "    shots=shots,\n",
    "    active_qubits=active_qubits,\n",
    "    verbose=verbose,\n",
    ")"
   ]
  },
  {
   "cell_type": "code",
   "execution_count": 8,
   "id": "3a3a60f4",
   "metadata": {},
   "outputs": [],
   "source": [
    "min_trotter_steps = 4                                             # 4 minimum for competition\n",
    "max_trotter_steps = 12\n",
    "trotter_steps = range(min_trotter_steps, max_trotter_steps+1)     # Variable if just running one simulation"
   ]
  },
  {
   "cell_type": "code",
   "execution_count": 9,
   "id": "eb84184b",
   "metadata": {},
   "outputs": [],
   "source": [
    "simulator_noiseless_backend = TrotterSimulation(\n",
    "    simulation_parameter=time,\n",
    "    simulation_backend=sim_jakarta_noiseless,\n",
    "    backend_default_gates=basis_gates,\n",
    "    simulation_end_time=end_time,\n",
    "    number_of_qubits=n_qubits,\n",
    "    shots=shots,\n",
    "    active_qubits=active_qubits,\n",
    "    verbose=verbose,\n",
    ")"
   ]
  },
  {
   "cell_type": "code",
   "execution_count": 10,
   "id": "5560a769",
   "metadata": {},
   "outputs": [],
   "source": [
    "simulator_noisy_backend = TrotterSimulation(\n",
    "    simulation_parameter=time,\n",
    "    simulation_backend=sim_jakarta_noisy,\n",
    "    backend_default_gates=basis_gates,\n",
    "    simulation_end_time=end_time,\n",
    "    number_of_qubits=n_qubits,\n",
    "    shots=shots,\n",
    "    active_qubits=active_qubits,\n",
    "    verbose=verbose,\n",
    ")"
   ]
  },
  {
   "cell_type": "markdown",
   "id": "1319655e",
   "metadata": {},
   "source": [
    "We now have three instances of our class with different backends. The simulator_jakarta_device_backend instance will send a job with our chosen decomposition repeated for four Trotter steps, while the two others we can can loop over decompositions and trotter steps if we want to. Now let's see how to actually run the simulation using our instances."
   ]
  },
  {
   "cell_type": "markdown",
   "id": "267db0c9",
   "metadata": {},
   "source": [
    "The next step in the call sequence of our class is to set our desired qiskit transpilation level and whether we wish to enable symmetry protection or not. The theory of symmetry protection is covered in more detail in the [PDF](https://github.com/Linueks/QuantumComputing/blob/main/IBM-quantum-challenge/pub/IBM_Challenge_Spring_2022_Linus_Ekstrom.pdf). Basically, we rotate our error terms such that we potentially are able to cancel the leading order terms in the expansion. "
   ]
  },
  {
   "cell_type": "code",
   "execution_count": 11,
   "id": "c6ebe615",
   "metadata": {},
   "outputs": [],
   "source": [
    "transpilation_level = 3\n",
    "symmetry_protection = True\n",
    "from decompositions import symmetry_protection_su_2"
   ]
  },
  {
   "cell_type": "code",
   "execution_count": 12,
   "id": "3632afb5",
   "metadata": {},
   "outputs": [
    {
     "name": "stdout",
     "output_type": "stream",
     "text": [
      "Transpilation level: 3\n",
      "Symmetry Protection True\n"
     ]
    }
   ],
   "source": [
    "simulator_noisy_backend.set_transpilation_level(transpilation_level)\n",
    "simulator_noisy_backend.set_symmetry_protection(\n",
    "    symmetry_protection,\n",
    "    symmetry_protection_su_2,\n",
    ")"
   ]
  },
  {
   "cell_type": "markdown",
   "id": "35b146c0",
   "metadata": {},
   "source": [
    "Change the simulator instance to use the other ones. Next in our call sequence all we have to do is run our simulation using the .run method. This will set up the base circuit and tomography circuits for a given decomposition. Let's see how it works!"
   ]
  },
  {
   "cell_type": "code",
   "execution_count": 13,
   "id": "02737231",
   "metadata": {},
   "outputs": [
    {
     "name": "stdout",
     "output_type": "stream",
     "text": [
      "Building base circuit with <function trotter_step_zzyyxx at 0x00000176BFB837B8> and 8 Trotter steps\n",
      "Job ID: c0bfe56d-a8ab-478f-9604-abf1f165869f\n",
      "Job Status: job has successfully run\n",
      "state tomography fidelity = 0.1217\n",
      "-----------------------------------------------------------\n"
     ]
    }
   ],
   "source": [
    "trotter_steps = 8\n",
    "fidelity = simulator_noisy_backend.run(\n",
    "    name='zzyyxx',\n",
    "    decomposition=trotter_step_zzyyxx,\n",
    "    trotter_steps=trotter_steps,\n",
    ")"
   ]
  },
  {
   "cell_type": "markdown",
   "id": "a5b4e9bd",
   "metadata": {},
   "source": [
    "This is just an example of how running a circuit using my class works. It is flexible to be able to change the Trotter step freely by defining new functions. I have ran five jobs on the quantum device and the job ids are the following."
   ]
  },
  {
   "cell_type": "code",
   "execution_count": 14,
   "id": "f3427727",
   "metadata": {},
   "outputs": [],
   "source": [
    "job_ids = [\n",
    "    '624d6e13cfe45c3bf1e599f7',\n",
    "    '624d74b7a5d4ee1e2677c35c',\n",
    "    '624d75bed72033698a67ce88',\n",
    "    '624d7642aacb9b785e5f4423',\n",
    "    '624d76bdcaa2651ecaf19029',\n",
    "]"
   ]
  },
  {
   "cell_type": "markdown",
   "id": "8da3f790",
   "metadata": {},
   "source": [
    "Here we have the job ids from running the best performing decomposition and trotter step number combinations. Now we need to retrieve the results from IBMQ.\n",
    "\n",
    "These jobs correspond to the following runs: \n",
    "\n",
    "    1. zzyyxx + symmetry protection with 4 trotter steps\n",
    "    2. zzyyxx - symmetry protection with 4 trotter steps\n",
    "    3. zyxzyx + symmetry protection with 7 trotter steps\n",
    "    4. x+yzzx+y + symmetry protection with 8 trotter steps\n",
    "    5. x+y+z - symmetry protection with 8 trotter steps\n"
   ]
  },
  {
   "cell_type": "markdown",
   "id": "00d9d6d4",
   "metadata": {},
   "source": [
    "This next step of analysis will be painfully manually done. We will need to make an instance for each of the specifics of the runs and then generate the tomography circuits such that we can perform the full state tomography as stated in the competition. These were chosen because they were the ones that either performed the best in my simulated runs, or because they gave a big boost to the fidelity from symmetry protection. Again, more details can be found in the [PDF](https://github.com/Linueks/QuantumComputing/blob/main/IBM-quantum-challenge/pub/IBM_Challenge_Spring_2022_Linus_Ekstrom.pdf)"
   ]
  },
  {
   "cell_type": "code",
   "execution_count": 20,
   "id": "c74791b7",
   "metadata": {},
   "outputs": [],
   "source": [
    "trotter_step_functions = {\n",
    "    'zzyyxx1': trotter_step_zzyyxx,\n",
    "    'zzyyxx2': trotter_step_zzyyxx,\n",
    "    'zyxzyx': trotter_step_zyxzyx,\n",
    "    'x+yzzx+y': trotter_step_xplusy_zz_xplusy,\n",
    "    'x+y+z': trotter_step_xplusyplusz_xplusyplusz,\n",
    "}\n",
    "\n",
    "symmetry_protections = [\n",
    "    True,\n",
    "    False,\n",
    "    True,\n",
    "    True,\n",
    "    False,\n",
    "]\n",
    "\n",
    "trotter_steps = [\n",
    "    4,\n",
    "    4,\n",
    "    7,\n",
    "    8,\n",
    "    8,\n",
    "]"
   ]
  },
  {
   "cell_type": "code",
   "execution_count": 22,
   "id": "c8526815",
   "metadata": {},
   "outputs": [
    {
     "name": "stdout",
     "output_type": "stream",
     "text": [
      "Fidelity: 0.431886 for <function trotter_step_zzyyxx at 0x00000176BFB837B8> with 4 trotter steps and symmetry protection True\n",
      "Fidelity: 0.064216 for <function trotter_step_zzyyxx at 0x00000176BFB837B8> with 4 trotter steps and symmetry protection False\n",
      "Fidelity: 0.245432 for <function trotter_step_zyxzyx at 0x00000176BFB83730> with 7 trotter steps and symmetry protection True\n",
      "Fidelity: 0.256461 for <function trotter_step_xplusy_zz_xplusy at 0x00000176BFB83510> with 8 trotter steps and symmetry protection True\n",
      "Fidelity: 0.434357 for <function trotter_step_xplusyplusz_xplusyplusz at 0x00000176BFB83620> with 8 trotter steps and symmetry protection False\n"
     ]
    }
   ],
   "source": [
    "simulator = TrotterSimulation(\n",
    "    simulation_parameter=time,\n",
    "    simulation_backend=jakarta_backend,\n",
    "    backend_default_gates=basis_gates,\n",
    "    simulation_end_time=end_time,\n",
    "    number_of_qubits=n_qubits,\n",
    "    shots=shots,\n",
    "    active_qubits=active_qubits,\n",
    "    verbose=False,\n",
    ")\n",
    "transpilation_level=3\n",
    "simulator.set_transpilation_level(transpilation_level)\n",
    "\n",
    "\n",
    "for i, (name, decomposition) in enumerate(trotter_step_functions.items()):\n",
    "    simulator.set_symmetry_protection(\n",
    "        symmetry_protection=symmetry_protections[i],\n",
    "        symmetry_protection_function=symmetry_protection_su_2,\n",
    "    )\n",
    "    base_circuit = simulator.make_base_circuit(\n",
    "        trotter_steps=trotter_steps[i],\n",
    "        trotter_step_function=decomposition,\n",
    "        name=name,\n",
    "    )\n",
    "    tomography_circuits = simulator.make_tomography_circuits(\n",
    "        base_circuit,\n",
    "    )\n",
    "    job = jakarta_backend.retrieve_job(job_ids[i]) \n",
    "    fidelity = simulator.calculate_fidelity(\n",
    "        job,\n",
    "        tomography_circuits,\n",
    "    )\n",
    "    \n",
    "    \n",
    "    print(f'Fidelity: {np.round(fidelity, 6)} for {repr(decomposition)} with {trotter_steps[i]} trotter steps and symmetry protection {symmetry_protections[i]}')\n"
   ]
  },
  {
   "cell_type": "markdown",
   "id": "7975ca88",
   "metadata": {},
   "source": [
    "We see that our 'x+y+z' decomposition works the best, this makes sense as our Hamiltonian conserves SU2 and with how that Trotter step is constructed we also favour this. Next best is 'zzyyxx' with symmetry protection. "
   ]
  },
  {
   "cell_type": "markdown",
   "id": "f279fbe4",
   "metadata": {},
   "source": [
    "That is basically it for code description. I do invite whoever reads this to check out my Github as well. If anyone wants to fork and use the code that would be great as well! I hope everyone reading this would be interested in checking out my PDF write up as well. It explains the theory and background needed to understand what's going on in the code. I have tried to write it fairly simply as doing so challenges me to understand the topics better! \n",
    "\n",
    "I have learned a lot during this work which I will surely carry forward thoroughout my further career in physics! It has been great fun to compete and actually complete this project! During this time I have read lots of papers in the quantum computing field. I would like to thank Alessandro Roggero, Morten Hjorth-Jensen and Stian Bilek for their great assistance and guidance!"
   ]
  },
  {
   "cell_type": "code",
   "execution_count": null,
   "id": "a78882ce",
   "metadata": {},
   "outputs": [],
   "source": []
  }
 ],
 "metadata": {
  "kernelspec": {
   "display_name": "Python 3 (ipykernel)",
   "language": "python",
   "name": "python3"
  },
  "language_info": {
   "codemirror_mode": {
    "name": "ipython",
    "version": 3
   },
   "file_extension": ".py",
   "mimetype": "text/x-python",
   "name": "python",
   "nbconvert_exporter": "python",
   "pygments_lexer": "ipython3",
   "version": "3.7.0"
  }
 },
 "nbformat": 4,
 "nbformat_minor": 5
}
